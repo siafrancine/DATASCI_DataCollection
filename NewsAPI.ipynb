{
 "cells": [
  {
   "cell_type": "markdown",
   "metadata": {
    "id": "d87xN7OHqN8R"
   },
   "source": [
    "# Getting data from an API\n",
    "This notebook walks you through some steps in collecting data from Reddit using the News API.\n",
    "\n",
    "We will use the **News API** which is documented here -> https://newsapi.org/docs/client-libraries/python"
   ]
  },
  {
   "cell_type": "markdown",
   "metadata": {
    "id": "1a_zqwNUqeG0"
   },
   "source": [
    "## Install the News API Library\n"
   ]
  },
  {
   "cell_type": "code",
   "execution_count": 25,
   "metadata": {
    "colab": {
     "base_uri": "https://localhost:8080/"
    },
    "id": "xgsrQXaxqOdI",
    "outputId": "01836688-fd70-4ae9-f533-88d443d4bc09"
   },
   "outputs": [
    {
     "name": "stdout",
     "output_type": "stream",
     "text": [
      "Requirement already satisfied: newsapi-python in /usr/local/lib/python3.7/dist-packages (0.2.6)\n",
      "Requirement already satisfied: requests<3.0.0 in /usr/local/lib/python3.7/dist-packages (from newsapi-python) (2.23.0)\n",
      "Requirement already satisfied: urllib3!=1.25.0,!=1.25.1,<1.26,>=1.21.1 in /usr/local/lib/python3.7/dist-packages (from requests<3.0.0->newsapi-python) (1.24.3)\n",
      "Requirement already satisfied: chardet<4,>=3.0.2 in /usr/local/lib/python3.7/dist-packages (from requests<3.0.0->newsapi-python) (3.0.4)\n",
      "Requirement already satisfied: certifi>=2017.4.17 in /usr/local/lib/python3.7/dist-packages (from requests<3.0.0->newsapi-python) (2020.12.5)\n",
      "Requirement already satisfied: idna<3,>=2.5 in /usr/local/lib/python3.7/dist-packages (from requests<3.0.0->newsapi-python) (2.10)\n",
      "\u001b[31mERROR: Operation cancelled by user\u001b[0m\n"
     ]
    }
   ],
   "source": [
    "!python -m pip install newsapi-python"
   ]
  },
  {
   "cell_type": "markdown",
   "metadata": {
    "id": "YqBLNuk5qWMJ"
   },
   "source": [
    "## Import the Package\n"
   ]
  },
  {
   "cell_type": "code",
   "execution_count": 6,
   "metadata": {
    "id": "TPUnLSoJqQve"
   },
   "outputs": [],
   "source": [
    "from newsapi import NewsApiClient"
   ]
  },
  {
   "cell_type": "code",
   "execution_count": 7,
   "metadata": {
    "id": "0_rP2mq1qS7k"
   },
   "outputs": [],
   "source": [
    "key = 'aff444efbb664d54a09d112ce2b0b28f'\n",
    "newsapi = NewsApiClient(api_key=key)"
   ]
  },
  {
   "cell_type": "markdown",
   "metadata": {
    "id": "h3dyjijeqoRp"
   },
   "source": [
    "## Get articles from March 11-12, 2021"
   ]
  },
  {
   "cell_type": "code",
   "execution_count": 26,
   "metadata": {
    "colab": {
     "base_uri": "https://localhost:8080/"
    },
    "id": "HVwEZGnMqj60",
    "outputId": "6411526d-e5fc-475a-cbed-44798cff0aba"
   },
   "outputs": [
    {
     "data": {
      "text/plain": [
       "{'articles': [{'author': 'Rappler.com',\n",
       "   'content': '\"But I will say that we are constantly evolving. And this year, as in past years, we are going to take a hard look at how to improve our awards process, including the nomination review committees,\" h… [+7 chars]',\n",
       "   'description': 'After his Grammys 2021 nominations snub, the R&B artist says he will no longer allow his label to submit his music to the Grammys from now on',\n",
       "   'publishedAt': '2021-03-12T06:58:45Z',\n",
       "   'source': {'id': None, 'name': 'Rappler'},\n",
       "   'title': 'The Weeknd to boycott Grammys starting 2021',\n",
       "   'url': 'https://www.rappler.com/entertainment/music/the-weeknd-boycott-future-grammy-awards-starting-2021',\n",
       "   'urlToImage': 'https://assets2.rappler.com/2021/03/Screen-Shot-2021-03-12-at-11.12.08-AM-1615518762063.png'},\n",
       "  {'author': 'Ralf Rivas',\n",
       "   'content': \"A sociologist by heart, a journalist by profession. Ralf is Rappler's business reporter, covering macroeconomy, government finance, companies, and agriculture.\",\n",
       "   'description': 'This loan agreement with the Asian Development Bank specifies that the ADB will pay vaccine suppliers directly',\n",
       "   'publishedAt': '2021-03-12T04:10:02Z',\n",
       "   'source': {'id': None, 'name': 'Rappler'},\n",
       "   'title': 'ADB loans Philippines $400 million for COVID-19 vaccines',\n",
       "   'url': 'https://www.rappler.com/business/asian-development-bank-loan-philippines-covid-19-vaccines-march-2021',\n",
       "   'urlToImage': 'https://assets2.rappler.com/2021/03/astrazeneca-vaccine-ospital-maynila-covid-19-march-9-2021-001-1615520991160.jpg'},\n",
       "  {'author': 'Ralf Rivas',\n",
       "   'content': '\"Procuring and administering vaccines provides the country an added layer of defense against COVID-19 on top of public health measures or interventions like social distancing, wearing of masks, and w… [+108 chars]',\n",
       "   'description': 'The financing also supports other public health measures, including the use of web platforms to gather feedback on the vaccination program',\n",
       "   'publishedAt': '2021-03-12T03:20:51Z',\n",
       "   'source': {'id': None, 'name': 'Rappler'},\n",
       "   'title': 'World Bank approves $500-million loan for Philippines’ COVID-19 vaccines',\n",
       "   'url': 'https://www.rappler.com/business/world-bank-approves-loan-philippines-covid-19-vaccines-march-2021',\n",
       "   'urlToImage': 'https://assets2.rappler.com/2021/03/csmc-covid-19-vaccination-march-6-2021-002-1615518535884.jpg'},\n",
       "  {'author': 'Thomson Reuters Foundation',\n",
       "   'content': 'Britain needs a garment industry watchdog to stop labor abuses, from low pay to poor working conditions, lawmakers said on Friday, March 12, citing concerns over a lack of progress in tackling exploi… [+52 chars]',\n",
       "   'description': 'Lawmakers call on the British government to set up a Garment Trade Adjudicator to ensure retailers treat their supplier factories fairly',\n",
       "   'publishedAt': '2021-03-12T02:55:48Z',\n",
       "   'source': {'id': None, 'name': 'Rappler'},\n",
       "   'title': 'UK urged to create garment industry watchdog to tackle labor abuses',\n",
       "   'url': 'https://www.rappler.com/business/uk-urged-create-garment-industry-watchdog-tackle-labor-abuses',\n",
       "   'urlToImage': 'https://assets2.rappler.com/2021/03/uk-garment-factory-january-8-2016-reuters-1615517706951.jpg'},\n",
       "  {'author': 'Reuters',\n",
       "   'content': 'Grab Holdings Inc is in talks to go public through a merger with a special purpose acquisition company that could value the ride-hailing giant at nearly $40 billion, making it the largest ever blank-… [+70 chars]',\n",
       "   'description': 'Grab is expected to raise between $3 billion and $4 billion from private investors, according to a report',\n",
       "   'publishedAt': '2021-03-12T02:07:29Z',\n",
       "   'source': {'id': None, 'name': 'Rappler'},\n",
       "   'title': 'SoftBank-backed Grab in talks to go public in nearly $40-B SPAC deal – sources',\n",
       "   'url': 'https://www.rappler.com/technology/softbank-grab-public-listing-talks-spac-deal',\n",
       "   'urlToImage': 'https://assets2.rappler.com/2021/01/reuters-20210118-grab-1615514714342.jpg'},\n",
       "  {'author': 'Reuters',\n",
       "   'content': \"China on Thursday concluded its annual, weeklong session of the National People's Congress in which it set a modest growth target for 2021, unveiled changes to Hong Kong's electoral system, and laid … [+62 chars]\",\n",
       "   'description': \"Germany's BDI industry association says China must do more to live up to its promises of opening up its economy\",\n",
       "   'publishedAt': '2021-03-12T01:46:00Z',\n",
       "   'source': {'id': None, 'name': 'Rappler'},\n",
       "   'title': 'German industry urges EU to toughen response to unfair Chinese trade practices',\n",
       "   'url': 'https://www.rappler.com/business/german-industry-urges-european-union-toughen-response-unfair-chinese-trade-practices',\n",
       "   'urlToImage': 'https://assets2.rappler.com/2021/03/china-trade-october-19-2020-reuters-1615513426299.jpg'},\n",
       "  {'author': 'Reuters',\n",
       "   'content': 'The Dow Jones Industrial Average rose 188.57 points, or 0.58%, to 32,485.59, the S&amp;P 500 gained 40.46 points, or 1.04%, to 3,939.27, and the Nasdaq Composite added 329.84 points, or 2.52%, to 13,… [+6 chars]',\n",
       "   'description': 'On Wall Street, the easing inflation worry helps support equities, with the highly valued technology sector leading the way higher',\n",
       "   'publishedAt': '2021-03-12T01:35:16Z',\n",
       "   'source': {'id': None, 'name': 'Rappler'},\n",
       "   'title': 'World stock markets hit 2-week high as inflation worries abate',\n",
       "   'url': 'https://www.rappler.com/business/updates-global-stock-markets-march-11-2021',\n",
       "   'urlToImage': 'https://assets2.rappler.com/2021/03/stock-market-february-18-2021-reuters-1615512710460.jpg'},\n",
       "  {'author': 'Reuters',\n",
       "   'content': '\"We\\'re likely on the verge of much lower unemployment claims, but we\\'re not there yet,\" said Robert Frick, economist at Navy Federal Credit Union in Vienna, Virginia. \"Assuming COVID-19 infections an… [+98 chars]',\n",
       "   'description': 'While jobless claims are down in the United States, a full recovery from the deep scars inflicted by the COVID-19 pandemic will probably take years',\n",
       "   'publishedAt': '2021-03-12T01:20:21Z',\n",
       "   'source': {'id': None, 'name': 'Rappler'},\n",
       "   'title': 'US weekly jobless claims at 4-month low; labor market regaining footing',\n",
       "   'url': 'https://www.rappler.com/business/united-states-filing-unemployment-benefits-february-28-march-6-2021',\n",
       "   'urlToImage': 'https://assets2.rappler.com/2021/03/united-states-unemployment-march-11-2021-reuters-1615511889761.jpg'},\n",
       "  {'author': 'Reuters',\n",
       "   'content': '\"As global cannabis deregulation gains pace, led by the US, we have been approached by an increasing number of Big Tobacco, Big Pharma, and leading FMCG companies, looking to invest in the cannabis s… [+108 chars]',\n",
       "   'description': 'British American Tobacco will acquire a stake in Organigram, which grows cannabis and makes cannabis-derived products in Canada',\n",
       "   'publishedAt': '2021-03-11T15:15:15Z',\n",
       "   'source': {'id': None, 'name': 'Rappler'},\n",
       "   'title': 'British American Tobacco tries Canadian pot luck',\n",
       "   'url': 'https://www.rappler.com/business/british-american-tobacco-to-buy-stake-cannabis-producer-organigram',\n",
       "   'urlToImage': 'https://assets2.rappler.com/2021/03/cannabis-july-31-2013-reuters-1615475594213.jpg'},\n",
       "  {'author': 'Reuters',\n",
       "   'content': 'Eurofound, an EU agency dedicated to monitoring and improving living and working conditions in the 27-nation bloc, said the number of temporary contracts sank by 17%, with Spain, France, Poland, Ital… [+30 chars]',\n",
       "   'description': \"EU agency Eurofound notes that 'younger workers experienced the sharpest declines in employment,' risking another 'lost generation'\",\n",
       "   'publishedAt': '2021-03-11T14:35:33Z',\n",
       "   'source': {'id': None, 'name': 'Rappler'},\n",
       "   'title': 'EU study finds COVID-19 has already wiped out 6 million jobs',\n",
       "   'url': 'https://www.rappler.com/business/eurofound-covid-19-implications-employment-working-life-study-march-11-2021',\n",
       "   'urlToImage': 'https://assets2.rappler.com/2021/03/spain-businesses-february-2-2021-reuters-1615472924137.jpg'},\n",
       "  {'author': 'Reuters',\n",
       "   'content': 'Investments in electrification, self-driving technology, and connectivity meant that research and development costs remained high at 5.7 billion euros ($6.8 billion), though more than 4% below the ne… [+46 chars]',\n",
       "   'description': 'BMW posts a pre-tax profit of 5.2 billion euros ($6.22 billion) in 2020, down nearly 27%',\n",
       "   'publishedAt': '2021-03-11T13:55:29Z',\n",
       "   'source': {'id': None, 'name': 'Rappler'},\n",
       "   'title': 'BMW says wind at its back after pandemic dents 2020 profit',\n",
       "   'url': 'https://www.rappler.com/business/bmw-earnings-report-january-december-2020',\n",
       "   'urlToImage': 'https://assets2.rappler.com/2021/03/bmw-march-20-2019-reuters-1615470439784.jpg'},\n",
       "  {'author': 'Reuters',\n",
       "   'content': 'Greece reported 2,633 COVID-19 cases on Wednesday, March 10, and 43 deaths, bringing total infections since the first case was detected in February last year to 212,091 and COVID-19-related deaths to… [+18 chars]',\n",
       "   'description': 'The total amount to support Greek businesses and jobs in 2021 would increase to 11.6 billion euros',\n",
       "   'publishedAt': '2021-03-11T13:30:24Z',\n",
       "   'source': {'id': None, 'name': 'Rappler'},\n",
       "   'title': 'Greece extends pandemic support in ‘titanic effort’ to shield economy',\n",
       "   'url': 'https://www.rappler.com/business/greece-extends-coronavirus-pandemic-support-titanic-effort-shield-economy-march-2021',\n",
       "   'urlToImage': 'https://assets2.rappler.com/2021/03/greece-economy-march-10-2021-reuters-1615469044417.jpg'},\n",
       "  {'author': 'Reuters',\n",
       "   'content': 'It said it had secured a \"market-leading\" $4.4 billion of net new business from companies including Alibaba, HSBC, Intel, Uber, and Unilever. WPP shares hit a year-high, and were last up 1.3%, giving… [+45 chars]',\n",
       "   'description': 'WPP, owner of the Ogilvy, Grey, and GroupM agencies, forecasts a return to growth in the 2nd quarter of 2021',\n",
       "   'publishedAt': '2021-03-11T13:15:31Z',\n",
       "   'source': {'id': None, 'name': 'Rappler'},\n",
       "   'title': 'Digital shift, vaccines help advertising giant WPP plot path to recovery',\n",
       "   'url': 'https://www.rappler.com/business/wpp-earnings-report-q4-2020',\n",
       "   'urlToImage': 'https://assets2.rappler.com/2021/03/wpp-july-17-2019-reuters-1615467657235.jpg'},\n",
       "  {'author': 'Reuters',\n",
       "   'content': 'Chinese Premier Li Keqiang on Thursday, March 11, defended the government\\'s target for more than 6% economic growth this year, saying it is \"not low,\" and policies would not be dramatically loosened … [+22 chars]',\n",
       "   'description': \"'It is only with a steady pace that we will be firm in our steps,' says Chinese Premier Li Keqiang\",\n",
       "   'publishedAt': '2021-03-11T12:55:12Z',\n",
       "   'source': {'id': None, 'name': 'Rappler'},\n",
       "   'title': 'Chinese premier rejects idea that 2021 GDP growth target too ‘low’',\n",
       "   'url': 'https://www.rappler.com/business/china-li-keqiang-rejects-idea-2021-gdp-growth-target-too-low',\n",
       "   'urlToImage': 'https://assets2.rappler.com/2021/03/china-premier-li-keqiang-march-11-2021-reuters-1615466926127.jpg'},\n",
       "  {'author': 'Reuters',\n",
       "   'content': 'Financed largely by debt, Norwegian had grown rapidly to become a major carrier by the time of the COVID-19 outbreak, serving routes across Europe and flying to North and South America, Southeast Asi… [+22 chars]',\n",
       "   'description': \"Norwegian Air would be able to raise new capital and emerge from bankruptcy protection in Ireland and Norway if creditors and Ireland's High Court approve the restructuring plan\",\n",
       "   'publishedAt': '2021-03-11T12:40:08Z',\n",
       "   'source': {'id': None, 'name': 'Rappler'},\n",
       "   'title': 'Norwegian Air makes final restructuring offer to creditors',\n",
       "   'url': 'https://www.rappler.com/business/norwegian-air-makes-final-restructuring-offer-creditors',\n",
       "   'urlToImage': 'https://assets2.rappler.com/2021/03/norwegian-air-november-7-2019-reuters-1615465773483.jpg'},\n",
       "  {'author': 'Reuters',\n",
       "   'content': \"Rolls, founded in 1906 and one of the last vestiges of Britain's once mighty manufacturing industry, posted an underlying pretax loss of 4 billion pounds for 2020, worse than analyst expectations for… [+69 chars]\",\n",
       "   'description': \"Rolls-Royce suffers a record $5.6-billion loss for 2020, but says its cash burn is 'under control'\",\n",
       "   'publishedAt': '2021-03-11T12:15:12Z',\n",
       "   'source': {'id': None, 'name': 'Rappler'},\n",
       "   'title': '‘As long as it lasts’: Rolls-Royce says it can weather crisis despite record loss',\n",
       "   'url': 'https://www.rappler.com/business/rolls-royce-earnings-report-january-december-2020',\n",
       "   'urlToImage': 'https://assets2.rappler.com/2021/03/rolls-royce-november-15-2019-reuters-1615463927794.jpg'},\n",
       "  {'author': 'Reuters',\n",
       "   'content': 'A group of budget airlines, which do not compete in long-haul markets, and environmental groups wrote to the commission on Wednesday, March 10, asking that any SAF quotas apply not only to flights in… [+63 chars]',\n",
       "   'description': 'Long-haul trips to and from Europe should also be covered by targets on sustainable aviation fuels, budget airlines tell the European Commission',\n",
       "   'publishedAt': '2021-03-11T11:30:56Z',\n",
       "   'source': {'id': None, 'name': 'Rappler'},\n",
       "   'title': 'Budget airlines say EU sustainable fuel quotas should apply to all flights',\n",
       "   'url': 'https://www.rappler.com/business/budget-airlines-say-european-union-sustainable-fuel-quotas-should-apply-all-flights',\n",
       "   'urlToImage': 'https://assets2.rappler.com/2021/03/ryanair-easyjet-june-28-2016-reuters-1615473950533.jpg'},\n",
       "  {'author': 'Ralf Rivas',\n",
       "   'content': '\"Marketing promotions, thematic campaigns, coupled with the continued expansion of its distribution reach, helped drive growth.\\xa0Total revenues reached P36.2 billion, up 25%, while operating income gr… [+23 chars]',\n",
       "   'description': \"'There are still so many challenges ahead – and a lot of uncertainty. But we believe our economic recovery is underway as the vaccine rollout gathers pace,' says San Miguel president and COO Ramon Ang\",\n",
       "   'publishedAt': '2021-03-11T10:00:09Z',\n",
       "   'source': {'id': None, 'name': 'Rappler'},\n",
       "   'title': 'San Miguel posts 55% income drop in 2020, banks on vaccines for recovery',\n",
       "   'url': 'https://www.rappler.com/business/san-miguel-corporation-earnings-report-january-december-2020',\n",
       "   'urlToImage': 'https://assets2.rappler.com/2021/03/san-miguel-corp-office-1615455178159.jpg'},\n",
       "  {'author': 'Rappler.com',\n",
       "   'content': 'Actor Takeru Satoh reprises his role as the lead wandering swordsman, Kenshin Himura, while Japanese-American actor Mackenyu joins the cast as the new lead villain, Enishi Yukishiro. Original directo… [+59 chars]',\n",
       "   'description': \"WATCH: 'Rurouni Kenshin: The Final' reveals full trailerrappler.com\",\n",
       "   'publishedAt': '2021-03-11T08:44:42Z',\n",
       "   'source': {'id': None, 'name': 'Rappler'},\n",
       "   'title': \"WATCH: 'Rurouni Kenshin: The Final' reveals full trailer\",\n",
       "   'url': 'https://www.rappler.com/entertainment/movies/rorouni-kenshin-the-final-full-trailer',\n",
       "   'urlToImage': 'https://assets2.rappler.com/2021/03/Screen-Shot-2021-03-11-at-3.30.52-PM-1615447881962.png'},\n",
       "  {'author': 'Reuters',\n",
       "   'content': 'The 50% subsidies on some 800,000 plane tickets will be focused on destinations that usually rely heavily on foreign tourists, including Alice Springs and Kangaroo Island, and will be available from … [+29 chars]',\n",
       "   'description': 'The stimulus package includes airline ticket subsidies for travelers, cheap loans to small tour companies, and financial aid for Qantas Airways and Virgin Australia',\n",
       "   'publishedAt': '2021-03-11T08:15:29Z',\n",
       "   'source': {'id': None, 'name': 'Rappler'},\n",
       "   'title': 'Australia unveils $928-million COVID-19 stimulus package for tourism industry',\n",
       "   'url': 'https://www.rappler.com/business/australia-unveils-covid-19-stimulus-package-tourism-industry-march-2021',\n",
       "   'urlToImage': 'https://assets2.rappler.com/2021/03/australia-tourism-june-5-2020-reuters-1615450265345.jpg'}],\n",
       " 'status': 'ok',\n",
       " 'totalResults': 30}"
      ]
     },
     "execution_count": 26,
     "metadata": {
      "tags": []
     },
     "output_type": "execute_result"
    }
   ],
   "source": [
    "articles = newsapi.get_everything(domains='rappler.com',from_param='2021-03-11',to='2021-03-12',language='en')\n",
    "articles"
   ]
  },
  {
   "cell_type": "markdown",
   "metadata": {
    "id": "yw6aptCzwtVn"
   },
   "source": [
    "## Export to a JSON File"
   ]
  },
  {
   "cell_type": "code",
   "execution_count": 27,
   "metadata": {
    "id": "LgfJ5zomrD1d"
   },
   "outputs": [],
   "source": [
    "import json\n",
    "\n",
    "with open('news.json','w', encoding='utf8') as outfile:\n",
    "  json.dump(articles, outfile, indent=4, ensure_ascii=False)"
   ]
  },
  {
   "cell_type": "code",
   "execution_count": null,
   "metadata": {
    "id": "ZeNJ0wxGwvDQ"
   },
   "outputs": [],
   "source": []
  }
 ],
 "metadata": {
  "colab": {
   "name": "NewsAPI.ipynb",
   "provenance": [],
   "toc_visible": true
  },
  "kernelspec": {
   "display_name": "Python 3",
   "language": "python",
   "name": "python3"
  },
  "language_info": {
   "codemirror_mode": {
    "name": "ipython",
    "version": 3
   },
   "file_extension": ".py",
   "mimetype": "text/x-python",
   "name": "python",
   "nbconvert_exporter": "python",
   "pygments_lexer": "ipython3",
   "version": "3.9.2"
  }
 },
 "nbformat": 4,
 "nbformat_minor": 4
}
