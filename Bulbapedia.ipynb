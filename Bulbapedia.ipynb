{
 "cells": [
  {
   "cell_type": "code",
   "execution_count": 183,
   "id": "settled-plant",
   "metadata": {},
   "outputs": [],
   "source": [
    "import requests\n",
    "from urllib.parse import urljoin\n",
    "\n",
    "URL=\"https://bulbapedia.bulbagarden.net/wiki/List_of_Pok%C3%A9mon_by_National_Pok%C3%A9dex_number\""
   ]
  },
  {
   "cell_type": "code",
   "execution_count": 184,
   "id": "broken-bernard",
   "metadata": {},
   "outputs": [],
   "source": [
    "page=requests.get(URL)"
   ]
  },
  {
   "cell_type": "code",
   "execution_count": 185,
   "id": "permanent-recording",
   "metadata": {},
   "outputs": [],
   "source": [
    "## Find all tables that contain Pokemons"
   ]
  },
  {
   "cell_type": "code",
   "execution_count": 186,
   "id": "guided-pavilion",
   "metadata": {},
   "outputs": [],
   "source": [
    "from bs4 import BeautifulSoup\n",
    "\n",
    "#use html.parser bc we know that the coded is in html\n",
    "soup = BeautifulSoup(page.content, 'html.parser')"
   ]
  },
  {
   "cell_type": "code",
   "execution_count": 187,
   "id": "checked-acting",
   "metadata": {},
   "outputs": [],
   "source": [
    "#Get main content <div> that houses the tables in the webpage\n",
    "poke_content = soup.find(id='mw-content-text')\n",
    "\n",
    "#Get all <table> elements\n",
    "poke_tables = poke_content.find_all('table')"
   ]
  },
  {
   "cell_type": "markdown",
   "id": "physical-adolescent",
   "metadata": {},
   "source": [
    "## Put Pokemons in Lists for Corresponding Generation"
   ]
  },
  {
   "cell_type": "code",
   "execution_count": 188,
   "id": "decimal-surname",
   "metadata": {},
   "outputs": [],
   "source": [
    "gen2_list=poke_tables[2]\n",
    "gen3_list=poke_tables[3]\n",
    "gen4_list=poke_tables[4]\n",
    "gen5_list=poke_tables[5]\n",
    "gen6_list=poke_tables[6]\n",
    "gen7_list=poke_tables[7]\n",
    "gen8_list=poke_tables[8]"
   ]
  },
  {
   "cell_type": "code",
   "execution_count": 189,
   "id": "intelligent-binary",
   "metadata": {},
   "outputs": [],
   "source": [
    "info_start = 3"
   ]
  },
  {
   "cell_type": "markdown",
   "id": "combined-boxing",
   "metadata": {},
   "source": [
    "## Gen 2 Pokemons"
   ]
  },
  {
   "cell_type": "code",
   "execution_count": 190,
   "id": "uniform-christian",
   "metadata": {},
   "outputs": [
    {
     "name": "stdout",
     "output_type": "stream",
     "text": [
      "Index 0 - \n",
      "\n",
      "Index 1 - <td style=\"font-family:monospace\"> #001\n",
      "</td>\n",
      "Index 2 - \n",
      "\n",
      "Index 3 - <td style=\"font-family:monospace\"> #152\n",
      "</td>\n",
      "Index 4 - \n",
      "\n",
      "Index 5 - <th> <a href=\"/wiki/Chikorita_(Pok%C3%A9mon)\" title=\"Chikorita\"><img alt=\"Chikorita\" height=\"40\" src=\"//cdn.bulbagarden.net/upload/4/41/152MS6.png\" width=\"40\"/></a>\n",
      "</th>\n",
      "Index 6 - \n",
      "\n",
      "Index 7 - <td> <a href=\"/wiki/Chikorita_(Pok%C3%A9mon)\" title=\"Chikorita (Pokémon)\">Chikorita</a>\n",
      "</td>\n",
      "Index 8 - \n",
      "\n",
      "Index 9 - <td colspan=\"2\" style=\"text-align:center; background:#78C850\"> <a href=\"/wiki/Grass_(type)\" title=\"Grass (type)\"><span style=\"color:#FFF\">Grass</span></a>\n",
      "</td>\n",
      "Pokemon #152 Chikorita is a Grass Pokemon https://bulbapedia.bulbagarden.net/wiki/Chikorita_(Pok%C3%A9mon)\n"
     ]
    }
   ],
   "source": [
    "info_row = gen2_list.contents[info_start]\n",
    "for i in range(len(info_row.contents)):\n",
    "    print(f'Index {i} - {info_row.contents[i]}')\n",
    "    \n",
    "# Extract items of interest\n",
    "jdex = info_row.contents[1].text.strip()\n",
    "ndex = info_row.contents[3].text.strip()\n",
    "name = info_row.contents[7].text.strip()\n",
    "type1 = info_row.contents[9].text.strip()\n",
    "pokeurl = info_row.contents[7].a['href'].strip()\n",
    "href = urljoin(URL, pokeurl)\n",
    "\n",
    "print(f'Pokemon {ndex} {name} is a {type1} Pokemon {href}')"
   ]
  },
  {
   "cell_type": "markdown",
   "id": "manual-keeping",
   "metadata": {},
   "source": [
    "## Saving into JSON File"
   ]
  },
  {
   "cell_type": "code",
   "execution_count": 191,
   "id": "theoretical-kennedy",
   "metadata": {},
   "outputs": [],
   "source": [
    "gen2_json = []\n",
    "pokemon = []\n",
    "\n",
    "for i in range(info_start, len(gen2_list.contents), 2):\n",
    "    poke_info=gen2_list.contents[i]\n",
    "    jdex=poke_info.contents[1].text.strip()\n",
    "    ndex=poke_info.contents[3].text.strip()\n",
    "    name=poke_info.contents[7].text.strip()\n",
    "    type1=poke_info.contents[9].text.strip()\n",
    "    pokeurl = poke_info.contents[7].a['href'].strip()\n",
    "    href = urljoin(URL, pokeurl)\n",
    "    if len(poke_info.contents) > 10:\n",
    "        type2=poke_info.contents[11].text.strip()\n",
    "        # append, we want to add a new JSON object in that list\n",
    "        pokemon.append({\n",
    "            \"jdex\":jdex,\n",
    "            \"ndex\":ndex,\n",
    "            \"name\":name,\n",
    "            \"type1\":type1,\n",
    "            \"type2\":type2,\n",
    "            \"url\": href\n",
    "        })\n",
    "    else:\n",
    "        pokemon.append({\n",
    "            \"jdex\":jdex,\n",
    "            \"ndex\":ndex,\n",
    "            \"name\":name,\n",
    "            \"type1\":type1,\n",
    "            \"url\": href\n",
    "        }) "
   ]
  },
  {
   "cell_type": "markdown",
   "id": "loving-joyce",
   "metadata": {},
   "source": [
    "## Gen 3 Pokemons"
   ]
  },
  {
   "cell_type": "code",
   "execution_count": 192,
   "id": "finnish-woman",
   "metadata": {},
   "outputs": [
    {
     "name": "stdout",
     "output_type": "stream",
     "text": [
      "Index 0 - \n",
      "\n",
      "Index 1 - <td style=\"font-family:monospace\"> #001\n",
      "</td>\n",
      "Index 2 - \n",
      "\n",
      "Index 3 - <td style=\"font-family:monospace\"> #252\n",
      "</td>\n",
      "Index 4 - \n",
      "\n",
      "Index 5 - <th> <a href=\"/wiki/Treecko_(Pok%C3%A9mon)\" title=\"Treecko\"><img alt=\"Treecko\" height=\"68\" src=\"//cdn.bulbagarden.net/upload/e/e0/252MS8.png\" width=\"68\"/></a>\n",
      "</th>\n",
      "Index 6 - \n",
      "\n",
      "Index 7 - <td> <a href=\"/wiki/Treecko_(Pok%C3%A9mon)\" title=\"Treecko (Pokémon)\">Treecko</a>\n",
      "</td>\n",
      "Index 8 - \n",
      "\n",
      "Index 9 - <td colspan=\"2\" style=\"text-align:center; background:#78C850\"> <a href=\"/wiki/Grass_(type)\" title=\"Grass (type)\"><span style=\"color:#FFF\">Grass</span></a>\n",
      "</td>\n",
      "Pokemon #252 Treecko is a Grass Pokemon https://bulbapedia.bulbagarden.net/wiki/Treecko_(Pok%C3%A9mon)\n"
     ]
    }
   ],
   "source": [
    "info_row = gen3_list.contents[info_start]\n",
    "for i in range(len(info_row.contents)):\n",
    "    print(f'Index {i} - {info_row.contents[i]}')\n",
    "    \n",
    "# Extract items of interest\n",
    "hdex = info_row.contents[1].text.strip()\n",
    "ndex = info_row.contents[3].text.strip()\n",
    "name = info_row.contents[7].text.strip()\n",
    "type1 = info_row.contents[9].text.strip()\n",
    "pokeurl = info_row.contents[7].a['href'].strip()\n",
    "\n",
    "href = urljoin(URL, pokeurl)\n",
    "\n",
    "print(f'Pokemon {ndex} {name} is a {type1} Pokemon {href}')"
   ]
  },
  {
   "cell_type": "code",
   "execution_count": 193,
   "id": "ordinary-guest",
   "metadata": {},
   "outputs": [],
   "source": [
    "gen3_json = []\n",
    "\n",
    "for i in range(info_start, len(gen3_list.contents), 2):\n",
    "    poke_info=gen3_list.contents[i]\n",
    "    hdex=poke_info.contents[1].text.strip()\n",
    "    ndex=poke_info.contents[3].text.strip()\n",
    "    name=poke_info.contents[7].text.strip()\n",
    "    type1=poke_info.contents[9].text.strip()\n",
    "    pokeurl = poke_info.contents[7].a['href'].strip()\n",
    "    href = urljoin(URL, pokeurl)\n",
    "    \n",
    "    if len(poke_info.contents) > 10:\n",
    "        type2=poke_info.contents[11].text.strip()\n",
    "        # append, we want to add a new JSON object in that list\n",
    "        pokemon.append({\n",
    "            \"hdex\":hdex,\n",
    "            \"ndex\":ndex,\n",
    "            \"name\":name,\n",
    "            \"type1\":type1,\n",
    "            \"type2\":type2,\n",
    "            \"url\": href\n",
    "        })\n",
    "    else:\n",
    "        pokemon.append({\n",
    "            \"hdex\":hdex,\n",
    "            \"ndex\":ndex,\n",
    "            \"name\":name,\n",
    "            \"type1\":type1,\n",
    "            \"url\": href\n",
    "        }) "
   ]
  },
  {
   "cell_type": "markdown",
   "id": "promising-springfield",
   "metadata": {},
   "source": [
    "## Gen 4 Pokemons"
   ]
  },
  {
   "cell_type": "code",
   "execution_count": 194,
   "id": "expired-georgia",
   "metadata": {},
   "outputs": [
    {
     "name": "stdout",
     "output_type": "stream",
     "text": [
      "Index 0 - \n",
      "\n",
      "Index 1 - <td style=\"font-family:monospace\"> #001\n",
      "</td>\n",
      "Index 2 - \n",
      "\n",
      "Index 3 - <td style=\"font-family:monospace\"> #387\n",
      "</td>\n",
      "Index 4 - \n",
      "\n",
      "Index 5 - <th> <a href=\"/wiki/Turtwig_(Pok%C3%A9mon)\" title=\"Turtwig\"><img alt=\"Turtwig\" height=\"40\" src=\"//cdn.bulbagarden.net/upload/8/89/387MS6.png\" width=\"40\"/></a>\n",
      "</th>\n",
      "Index 6 - \n",
      "\n",
      "Index 7 - <td> <a href=\"/wiki/Turtwig_(Pok%C3%A9mon)\" title=\"Turtwig (Pokémon)\">Turtwig</a>\n",
      "</td>\n",
      "Index 8 - \n",
      "\n",
      "Index 9 - <td colspan=\"2\" style=\"text-align:center; background:#78C850\"> <a href=\"/wiki/Grass_(type)\" title=\"Grass (type)\"><span style=\"color:#FFF\">Grass</span></a>\n",
      "</td>\n",
      "Pokemon #387 Turtwig is a Grass Pokemon https://bulbapedia.bulbagarden.net/wiki/Turtwig_(Pok%C3%A9mon)\n"
     ]
    }
   ],
   "source": [
    "info_row = gen4_list.contents[info_start]\n",
    "for i in range(len(info_row.contents)):\n",
    "    print(f'Index {i} - {info_row.contents[i]}')\n",
    "    \n",
    "# Extract items of interest\n",
    "sdex = info_row.contents[1].text.strip()\n",
    "ndex = info_row.contents[3].text.strip()\n",
    "name = info_row.contents[7].text.strip()\n",
    "type1 = info_row.contents[9].text.strip()\n",
    "pokeurl = info_row.contents[7].a['href'].strip()\n",
    "\n",
    "href = urljoin(URL, pokeurl)\n",
    "\n",
    "print(f'Pokemon {ndex} {name} is a {type1} Pokemon {href}')"
   ]
  },
  {
   "cell_type": "code",
   "execution_count": 195,
   "id": "abroad-career",
   "metadata": {},
   "outputs": [],
   "source": [
    "gen4_json = []\n",
    "\n",
    "for i in range(info_start, len(gen4_list.contents), 2):\n",
    "    poke_info=gen4_list.contents[i]\n",
    "    sdex=poke_info.contents[1].text.strip()\n",
    "    ndex=poke_info.contents[3].text.strip()\n",
    "    name=poke_info.contents[7].text.strip()\n",
    "    type1=poke_info.contents[9].text.strip()\n",
    "    pokeurl = poke_info.contents[7].a['href'].strip()\n",
    "    href = urljoin(URL, pokeurl)\n",
    "    if len(poke_info.contents) > 10:\n",
    "        type2=poke_info.contents[11].text.strip()\n",
    "        # append, we want to add a new JSON object in that list\n",
    "        pokemon.append({\n",
    "            \"sdex\":sdex,\n",
    "            \"ndex\":ndex,\n",
    "            \"name\":name,\n",
    "            \"type1\":type1,\n",
    "            \"type2\":type2,\n",
    "            \"url\": href\n",
    "        })\n",
    "    else:\n",
    "        pokemon.append({\n",
    "            \"sdex\":sdex,\n",
    "            \"ndex\":ndex,\n",
    "            \"name\":name,\n",
    "            \"type1\":type1,\n",
    "            \"url\": href\n",
    "        }) "
   ]
  },
  {
   "cell_type": "markdown",
   "id": "filled-cedar",
   "metadata": {},
   "source": [
    "## Gen 5 Pokemons"
   ]
  },
  {
   "cell_type": "code",
   "execution_count": 196,
   "id": "lonely-subscription",
   "metadata": {},
   "outputs": [
    {
     "name": "stdout",
     "output_type": "stream",
     "text": [
      "Index 0 - \n",
      "\n",
      "Index 1 - <td style=\"font-family:monospace\"> #000\n",
      "</td>\n",
      "Index 2 - \n",
      "\n",
      "Index 3 - <td style=\"font-family:monospace\"> #494\n",
      "</td>\n",
      "Index 4 - \n",
      "\n",
      "Index 5 - <th> <a href=\"/wiki/Victini_(Pok%C3%A9mon)\" title=\"Victini\"><img alt=\"Victini\" height=\"68\" src=\"//cdn.bulbagarden.net/upload/6/63/494MS8.png\" width=\"68\"/></a>\n",
      "</th>\n",
      "Index 6 - \n",
      "\n",
      "Index 7 - <td> <a href=\"/wiki/Victini_(Pok%C3%A9mon)\" title=\"Victini (Pokémon)\">Victini</a>\n",
      "</td>\n",
      "Index 8 - \n",
      "\n",
      "Index 9 - <td colspan=\"1\" style=\"text-align:center; background:#F85888\"> <a href=\"/wiki/Psychic_(type)\" title=\"Psychic (type)\"><span style=\"color:#FFF\">Psychic</span></a> </td>\n",
      "Index 10 - \n",
      "\n",
      "Index 11 - <td align=\"center\" colspan=\"1\" rowspan=\"1\" style=\"background:#F08030\"> <a href=\"/wiki/Fire_(type)\" title=\"Fire (type)\"><span style=\"color:#FFFFFF\">Fire</span></a>\n",
      "</td>\n",
      "Pokemon #494 Victini is a Psychic Pokemon https://bulbapedia.bulbagarden.net/wiki/Victini_(Pok%C3%A9mon)\n"
     ]
    }
   ],
   "source": [
    "info_row = gen5_list.contents[info_start]\n",
    "for i in range(len(info_row.contents)):\n",
    "    print(f'Index {i} - {info_row.contents[i]}')\n",
    "    \n",
    "# Extract items of interest\n",
    "udex = info_row.contents[1].text.strip()\n",
    "ndex = info_row.contents[3].text.strip()\n",
    "name = info_row.contents[7].text.strip()\n",
    "type1 = info_row.contents[9].text.strip()\n",
    "pokeurl = info_row.contents[7].a['href'].strip()\n",
    "\n",
    "href = urljoin(URL, pokeurl)\n",
    "\n",
    "print(f'Pokemon {ndex} {name} is a {type1} Pokemon {href}')"
   ]
  },
  {
   "cell_type": "code",
   "execution_count": 197,
   "id": "young-cartridge",
   "metadata": {},
   "outputs": [],
   "source": [
    "gen5_json = []\n",
    "\n",
    "for i in range(info_start, len(gen5_list.contents), 2):\n",
    "    poke_info=gen5_list.contents[i]\n",
    "    udex=poke_info.contents[1].text.strip()\n",
    "    ndex=poke_info.contents[3].text.strip()\n",
    "    name=poke_info.contents[7].text.strip()\n",
    "    type1=poke_info.contents[9].text.strip()\n",
    "    pokeurl = poke_info.contents[7].a['href'].strip()\n",
    "    href = urljoin(URL, pokeurl)\n",
    "    if len(poke_info.contents) > 10:\n",
    "        type2=poke_info.contents[11].text.strip()\n",
    "        # append, we want to add a new JSON object in that list\n",
    "        pokemon.append({\n",
    "            \"udex\":udex,\n",
    "            \"ndex\":ndex,\n",
    "            \"name\":name,\n",
    "            \"type1\":type1,\n",
    "            \"type2\":type2,\n",
    "            \"url\": href\n",
    "        })\n",
    "    else:\n",
    "        pokemon.append({\n",
    "            \"udex\":udex,\n",
    "            \"ndex\":ndex,\n",
    "            \"name\":name,\n",
    "            \"type1\":type1,\n",
    "            \"url\": href\n",
    "        }) "
   ]
  },
  {
   "cell_type": "markdown",
   "id": "blind-preliminary",
   "metadata": {},
   "source": [
    "## Gen 6 Pokemons"
   ]
  },
  {
   "cell_type": "code",
   "execution_count": 198,
   "id": "assumed-albania",
   "metadata": {},
   "outputs": [
    {
     "name": "stdout",
     "output_type": "stream",
     "text": [
      "Index 0 - \n",
      "\n",
      "Index 1 - <td style=\"font-family:monospace\"> #001Ce\n",
      "</td>\n",
      "Index 2 - \n",
      "\n",
      "Index 3 - <td style=\"font-family:monospace\"> #650\n",
      "</td>\n",
      "Index 4 - \n",
      "\n",
      "Index 5 - <th> <a href=\"/wiki/Chespin_(Pok%C3%A9mon)\" title=\"Chespin\"><img alt=\"Chespin\" height=\"40\" src=\"//cdn.bulbagarden.net/upload/2/27/650MS6.png\" width=\"40\"/></a>\n",
      "</th>\n",
      "Index 6 - \n",
      "\n",
      "Index 7 - <td> <a href=\"/wiki/Chespin_(Pok%C3%A9mon)\" title=\"Chespin (Pokémon)\">Chespin</a>\n",
      "</td>\n",
      "Index 8 - \n",
      "\n",
      "Index 9 - <td colspan=\"2\" style=\"text-align:center; background:#78C850\"> <a href=\"/wiki/Grass_(type)\" title=\"Grass (type)\"><span style=\"color:#FFF\">Grass</span></a>\n",
      "</td>\n",
      "Pokemon #650 Chespin is a Grass Pokemon https://bulbapedia.bulbagarden.net/wiki/Chespin_(Pok%C3%A9mon)\n"
     ]
    }
   ],
   "source": [
    "info_row = gen6_list.contents[info_start]\n",
    "for i in range(len(info_row.contents)):\n",
    "    print(f'Index {i} - {info_row.contents[i]}')\n",
    "    \n",
    "# Extract items of interest\n",
    "kdex = info_row.contents[1].text.strip()\n",
    "ndex = info_row.contents[3].text.strip()\n",
    "name = info_row.contents[7].text.strip()\n",
    "type1 = info_row.contents[9].text.strip()\n",
    "pokeurl = info_row.contents[7].a['href'].strip()\n",
    "\n",
    "href = urljoin(URL, pokeurl)\n",
    "\n",
    "print(f'Pokemon {ndex} {name} is a {type1} Pokemon {href}')"
   ]
  },
  {
   "cell_type": "code",
   "execution_count": 199,
   "id": "registered-ministry",
   "metadata": {},
   "outputs": [],
   "source": [
    "gen6_json = []\n",
    "\n",
    "for i in range(info_start, len(gen6_list.contents), 2):\n",
    "    poke_info=gen6_list.contents[i]\n",
    "    kdex=poke_info.contents[1].text.strip()\n",
    "    ndex=poke_info.contents[3].text.strip()\n",
    "    name=poke_info.contents[7].text.strip()\n",
    "    type1=poke_info.contents[9].text.strip()\n",
    "    pokeurl = poke_info.contents[7].a['href'].strip()\n",
    "    href = urljoin(URL, pokeurl)\n",
    "    if len(poke_info.contents) > 10:\n",
    "        type2=poke_info.contents[11].text.strip()\n",
    "        # append, we want to add a new JSON object in that list\n",
    "        pokemon.append({\n",
    "            \"kdex\":kdex,\n",
    "            \"ndex\":ndex,\n",
    "            \"name\":name,\n",
    "            \"type1\":type1,\n",
    "            \"type2\":type2,\n",
    "            \"url\": href\n",
    "        })\n",
    "    else:\n",
    "        pokemon.append({\n",
    "            \"kdex\":kdex,\n",
    "            \"ndex\":ndex,\n",
    "            \"name\":name,\n",
    "            \"type1\":type1,\n",
    "            \"url\": href\n",
    "        }) "
   ]
  },
  {
   "cell_type": "markdown",
   "id": "chinese-conversation",
   "metadata": {},
   "source": [
    "## Gen 7 Pokemons"
   ]
  },
  {
   "cell_type": "code",
   "execution_count": 200,
   "id": "helpful-incidence",
   "metadata": {},
   "outputs": [
    {
     "name": "stdout",
     "output_type": "stream",
     "text": [
      "Index 0 - \n",
      "\n",
      "Index 1 - <td style=\"font-family:monospace\"> #001\n",
      "</td>\n",
      "Index 2 - \n",
      "\n",
      "Index 3 - <td style=\"font-family:monospace\"> #722\n",
      "</td>\n",
      "Index 4 - \n",
      "\n",
      "Index 5 - <th> <a href=\"/wiki/Rowlet_(Pok%C3%A9mon)\" title=\"Rowlet\"><img alt=\"Rowlet\" height=\"68\" src=\"//cdn.bulbagarden.net/upload/d/d1/722MS8.png\" width=\"68\"/></a>\n",
      "</th>\n",
      "Index 6 - \n",
      "\n",
      "Index 7 - <td> <a href=\"/wiki/Rowlet_(Pok%C3%A9mon)\" title=\"Rowlet (Pokémon)\">Rowlet</a>\n",
      "</td>\n",
      "Index 8 - \n",
      "\n",
      "Index 9 - <td colspan=\"1\" style=\"text-align:center; background:#78C850\"> <a href=\"/wiki/Grass_(type)\" title=\"Grass (type)\"><span style=\"color:#FFF\">Grass</span></a> </td>\n",
      "Index 10 - \n",
      "\n",
      "Index 11 - <td align=\"center\" colspan=\"1\" rowspan=\"1\" style=\"background:#A890F0\"> <a href=\"/wiki/Flying_(type)\" title=\"Flying (type)\"><span style=\"color:#FFFFFF\">Flying</span></a>\n",
      "</td>\n",
      "Pokemon #722 Rowlet is a Grass Pokemon https://bulbapedia.bulbagarden.net/wiki/Rowlet_(Pok%C3%A9mon)\n"
     ]
    }
   ],
   "source": [
    "info_row = gen7_list.contents[info_start]\n",
    "for i in range(len(info_row.contents)):\n",
    "    print(f'Index {i} - {info_row.contents[i]}')\n",
    "    \n",
    "# Extract items of interest\n",
    "adex = info_row.contents[1].text.strip()\n",
    "ndex = info_row.contents[3].text.strip()\n",
    "name = info_row.contents[7].text.strip()\n",
    "type1 = info_row.contents[9].text.strip()\n",
    "pokeurl = info_row.contents[7].a['href'].strip()\n",
    "\n",
    "href = urljoin(URL, pokeurl)\n",
    "\n",
    "print(f'Pokemon {ndex} {name} is a {type1} Pokemon {href}')"
   ]
  },
  {
   "cell_type": "code",
   "execution_count": 201,
   "id": "accepted-census",
   "metadata": {},
   "outputs": [],
   "source": [
    "gen7_json = []\n",
    "\n",
    "for i in range(info_start, len(gen7_list.contents), 2):\n",
    "    poke_info=gen7_list.contents[i]\n",
    "    adex=poke_info.contents[1].text.strip()\n",
    "    ndex=poke_info.contents[3].text.strip()\n",
    "    name=poke_info.contents[7].text.strip()\n",
    "    type1=poke_info.contents[9].text.strip()\n",
    "    pokeurl = poke_info.contents[7].a['href'].strip()\n",
    "    href = urljoin(URL, pokeurl)\n",
    "    if len(poke_info.contents) > 10:\n",
    "        type2=poke_info.contents[11].text.strip()\n",
    "        # append, we want to add a new JSON object in that list\n",
    "        pokemon.append({\n",
    "            \"adex\":adex,\n",
    "            \"ndex\":ndex,\n",
    "            \"name\":name,\n",
    "            \"type1\":type1,\n",
    "            \"type2\":type2,\n",
    "            \"url\": href\n",
    "        })\n",
    "    else:\n",
    "        pokemon.append({\n",
    "            \"adex\":adex,\n",
    "            \"ndex\":ndex,\n",
    "            \"name\":name,\n",
    "            \"type1\":type1,\n",
    "            \"url\": href\n",
    "        }) "
   ]
  },
  {
   "cell_type": "markdown",
   "id": "developed-white",
   "metadata": {},
   "source": [
    "## Gen 8 Pokemons"
   ]
  },
  {
   "cell_type": "code",
   "execution_count": 202,
   "id": "rational-philosophy",
   "metadata": {},
   "outputs": [
    {
     "name": "stdout",
     "output_type": "stream",
     "text": [
      "Index 0 - \n",
      "\n",
      "Index 1 - <td style=\"font-family:monospace\"> #001\n",
      "</td>\n",
      "Index 2 - \n",
      "\n",
      "Index 3 - <td style=\"font-family:monospace\"> #810\n",
      "</td>\n",
      "Index 4 - \n",
      "\n",
      "Index 5 - <th> <a href=\"/wiki/Grookey_(Pok%C3%A9mon)\" title=\"Grookey\"><img alt=\"Grookey\" height=\"68\" src=\"//cdn.bulbagarden.net/upload/e/ec/810MS8.png\" width=\"68\"/></a>\n",
      "</th>\n",
      "Index 6 - \n",
      "\n",
      "Index 7 - <td> <a href=\"/wiki/Grookey_(Pok%C3%A9mon)\" title=\"Grookey (Pokémon)\">Grookey</a>\n",
      "</td>\n",
      "Index 8 - \n",
      "\n",
      "Index 9 - <td colspan=\"2\" style=\"text-align:center; background:#78C850\"> <a href=\"/wiki/Grass_(type)\" title=\"Grass (type)\"><span style=\"color:#FFF\">Grass</span></a>\n",
      "</td>\n",
      "Pokemon #810 Grookey is a Grass Pokemon https://bulbapedia.bulbagarden.net/wiki/Grookey_(Pok%C3%A9mon)\n"
     ]
    }
   ],
   "source": [
    "info_row = gen8_list.contents[info_start]\n",
    "for i in range(len(info_row.contents)):\n",
    "    print(f'Index {i} - {info_row.contents[i]}')\n",
    "    \n",
    "# Extract items of interest\n",
    "gdex = info_row.contents[1].text.strip()\n",
    "ndex = info_row.contents[3].text.strip()\n",
    "name = info_row.contents[7].text.strip()\n",
    "type1 = info_row.contents[9].text.strip()\n",
    "pokeurl = info_row.contents[7].a['href'].strip()\n",
    "\n",
    "href = urljoin(URL, pokeurl)\n",
    "\n",
    "print(f'Pokemon {ndex} {name} is a {type1} Pokemon {href}')"
   ]
  },
  {
   "cell_type": "code",
   "execution_count": 203,
   "id": "simple-guidance",
   "metadata": {},
   "outputs": [],
   "source": [
    "gen8_json = []\n",
    "\n",
    "for i in range(info_start, len(gen8_list.contents), 2):\n",
    "    poke_info=gen8_list.contents[i]\n",
    "    gdex=poke_info.contents[1].text.strip()\n",
    "    ndex=poke_info.contents[3].text.strip()\n",
    "    name=poke_info.contents[7].text.strip()\n",
    "    type1=poke_info.contents[9].text.strip()\n",
    "    pokeurl = poke_info.contents[7].a['href'].strip()\n",
    "    href = urljoin(URL, pokeurl)\n",
    "    if len(poke_info.contents) > 10:\n",
    "        type2=poke_info.contents[11].text.strip()\n",
    "        # append, we want to add a new JSON object in that list\n",
    "        pokemon.append({\n",
    "            \"gdex\":gdex,\n",
    "            \"ndex\":ndex,\n",
    "            \"name\":name,\n",
    "            \"type1\":type1,\n",
    "            \"type2\":type2,\n",
    "            \"url\": href\n",
    "        })\n",
    "    else:\n",
    "        pokemon.append({\n",
    "            \"gdex\":gdex,\n",
    "            \"ndex\":ndex,\n",
    "            \"name\":name,\n",
    "            \"type1\":type1,\n",
    "            \"urel\": href\n",
    "        }) "
   ]
  },
  {
   "cell_type": "markdown",
   "id": "secondary-assist",
   "metadata": {},
   "source": [
    "## Save into JSON File"
   ]
  },
  {
   "cell_type": "code",
   "execution_count": 204,
   "id": "smooth-holocaust",
   "metadata": {},
   "outputs": [],
   "source": [
    "import json\n",
    "\n",
    "out_file = open(\"Bulbapedia.json\",\"w\", encoding='utf8')\n",
    "\n",
    "json.dump(pokemon, out_file, indent=4, ensure_ascii=False)\n",
    "\n",
    "\n",
    "out_file.close()"
   ]
  },
  {
   "cell_type": "code",
   "execution_count": null,
   "id": "arranged-mirror",
   "metadata": {},
   "outputs": [],
   "source": []
  }
 ],
 "metadata": {
  "kernelspec": {
   "display_name": "Python 3",
   "language": "python",
   "name": "python3"
  },
  "language_info": {
   "codemirror_mode": {
    "name": "ipython",
    "version": 3
   },
   "file_extension": ".py",
   "mimetype": "text/x-python",
   "name": "python",
   "nbconvert_exporter": "python",
   "pygments_lexer": "ipython3",
   "version": "3.9.2"
  }
 },
 "nbformat": 4,
 "nbformat_minor": 5
}
